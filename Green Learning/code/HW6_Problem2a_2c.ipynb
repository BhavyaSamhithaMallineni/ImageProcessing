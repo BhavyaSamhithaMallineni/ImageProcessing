{
  "nbformat": 4,
  "nbformat_minor": 0,
  "metadata": {
    "colab": {
      "provenance": []
    },
    "kernelspec": {
      "name": "python3",
      "display_name": "Python 3"
    },
    "language_info": {
      "name": "python"
    }
  },
  "cells": [
    {
      "cell_type": "markdown",
      "source": [
        "Clone the Channelwise-Saab-Transform gitrepo to google colab"
      ],
      "metadata": {
        "id": "vi6fxddBFJu6"
      }
    },
    {
      "cell_type": "code",
      "execution_count": null,
      "metadata": {
        "id": "LY3_VucZE626"
      },
      "outputs": [],
      "source": [
        "!git clone https://github.com/USC-MCL/Channelwise-Saab-Transform.git"
      ]
    },
    {
      "cell_type": "code",
      "source": [
        "!pip install numpy scikit-image numba scikit-learn xgboost tensorflow\n"
      ],
      "metadata": {
        "id": "VKzpqnSZFC_6"
      },
      "execution_count": null,
      "outputs": []
    },
    {
      "cell_type": "code",
      "source": [
        "!git clone https://github.com/USC-MCL/Channelwise-Saab-Transform.git\n",
        "import os\n",
        "os.chdir('Channelwise-Saab-Transform')"
      ],
      "metadata": {
        "id": "3M18fH8_FDqC"
      },
      "execution_count": null,
      "outputs": []
    },
    {
      "cell_type": "code",
      "source": [
        "!pip install pixelhop\n"
      ],
      "metadata": {
        "id": "82VZisPeFG3m"
      },
      "execution_count": null,
      "outputs": []
    },
    {
      "cell_type": "markdown",
      "source": [
        "Modifying main.py"
      ],
      "metadata": {
        "id": "IMAmP2RIFaA5"
      }
    },
    {
      "cell_type": "code",
      "source": [
        "import numpy as np\n",
        "from tensorflow.keras.datasets import mnist,fashion_mnist\n",
        "from skimage.util import view_as_windows\n",
        "from pixelhop import Pixelhop\n",
        "from skimage.measure import block_reduce\n",
        "from sklearn.metrics import accuracy_score\n",
        "import matplotlib.pyplot as plt\n",
        "import xgboost as xgb\n",
        "import seaborn as sns\n",
        "import matplotlib.pyplot as plt\n",
        "from sklearn.metrics import confusion_matrix, accuracy_score\n",
        "import warnings, gc\n",
        "warnings.simplefilter(action='ignore', category=FutureWarning)\n",
        "import time"
      ],
      "metadata": {
        "id": "TEn6TtC0FIcU"
      },
      "execution_count": null,
      "outputs": []
    },
    {
      "cell_type": "code",
      "source": [
        "np.random.seed(1)\n",
        "\n",
        "# Preprocess\n",
        "N_Train_Reduced = 10000    # 10000\n",
        "N_Train_Full = 60000     #60000\n",
        "N_Test = 10000            # 10000\n",
        "\n",
        "BS = 2000"
      ],
      "metadata": {
        "id": "FoFhfz4GFfOS"
      },
      "execution_count": null,
      "outputs": []
    },
    {
      "cell_type": "code",
      "source": [
        "def shuffle_data(X, y):\n",
        "    shuffle_idx = np.random.permutation(y.size)\n",
        "    X = X[shuffle_idx]\n",
        "    y = y[shuffle_idx]\n",
        "    return X, y\n",
        "def select_balanced_subset(images, labels, use_num_images):\n",
        "    '''\n",
        "    select equal number of images from each classes\n",
        "    '''\n",
        "    num_total, H, W, C = images.shape\n",
        "    num_class = np.unique(labels).size\n",
        "    num_per_class = int(use_num_images / num_class)\n",
        "\n",
        "    # Shuffle\n",
        "    images, labels = shuffle_data(images, labels)\n",
        "\n",
        "    selected_images = np.zeros((use_num_images, H, W, C))\n",
        "    selected_labels = np.zeros(use_num_images)\n",
        "\n",
        "    for i in range(num_class):\n",
        "        selected_images[i * num_per_class:(i + 1) * num_per_class] = images[labels == i][:num_per_class]\n",
        "        selected_labels[i * num_per_class:(i + 1) * num_per_class] = np.ones((num_per_class)) * i\n",
        "\n",
        "    # Shuffle again\n",
        "    selected_images, selected_labels = shuffle_data(selected_images, selected_labels)\n",
        "\n",
        "    return selected_images, selected_labels\n",
        "\n",
        "def Shrink(X, shrinkArg):\n",
        "\n",
        "    pool = shrinkArg['pool']\n",
        "    poolh, poolw = 2, 2\n",
        "    if pool:\n",
        "        X = block_reduce(X, block_size=(1, poolh, poolw, 1), func=np.max)\n",
        "\n",
        "\n",
        "    win = shrinkArg['win']\n",
        "    stride = shrinkArg['stride']\n",
        "    pad = shrinkArg['pad']\n",
        "\n",
        "    if pad > 0:\n",
        "        X = np.pad(X, ((0,0), (pad,pad), (pad,pad), (0,0)), mode='reflect')\n",
        "\n",
        "    X = view_as_windows(X, (1, win, win, X.shape[-1]), step=(1, stride, stride, X.shape[-1]))\n",
        "    shrink_arg =X.reshape(X.shape[0], X.shape[1], X.shape[2], -1)\n",
        "\n",
        "    return shrink_arg\n",
        "\n",
        "def get_feat(X, num_layers=3):\n",
        "    output = p2.transform_singleHop(X,layer=0)\n",
        "    if num_layers>1:\n",
        "        for i in range(num_layers-1):\n",
        "            output = p2.transform_singleHop(output, layer=i+1)\n",
        "    return output\n",
        "  def Concat(X, concatArg):\n",
        "    return X\n"
      ],
      "metadata": {
        "id": "lA8cfyy-Fg5C"
      },
      "execution_count": null,
      "outputs": []
    },
    {
      "cell_type": "code",
      "source": [
        "warnings.filterwarnings(\"ignore\")\n",
        "start_time = time.time()\n",
        "(x_train, y_train), (x_test, y_test) = mnist.load_data()\n",
        "x_train, x_test = x_train.astype('float32')[..., np.newaxis] / 255.0, x_test.astype('float32')[..., np.newaxis] / 255.0\n",
        "y_train, y_test = y_train.astype('int'), y_test.astype('int')\n",
        "x_train_reduced, y_train_reduced = select_balanced_subset(x_train, y_train, N_Train_Reduced)\n",
        "\n",
        "print('Running Module 1...')\n",
        "SaabArgs = [{'num_AC_kernels': -1, 'needBias': False, 'cw': False}, {'num_AC_kernels': -1, 'needBias': True, 'cw': True}, {'num_AC_kernels': -1, 'needBias': True, 'cw': True}]\n",
        "shrinkArgs = [{'func': Shrink, 'win': 5, 'stride': 1, 'pad': 2, 'pool': False}, {'func': Shrink, 'win': 5, 'stride': 1, 'pad': 0, 'pool': True}, {'func': Shrink, 'win': 5, 'stride': 1, 'pad': 0, 'pool': True}]\n",
        "\n",
        "concatArg = {'func': Concat}\n",
        "\n",
        "#module 1\n",
        "p2 = Pixelhop(depth=3, TH1=0.001, TH2=0.001, SaabArgs=SaabArgs, shrinkArgs=shrinkArgs, concatArg=concatArg)\n",
        "p2.fit(x_train_reduced)\n",
        "\n",
        "#Module 2\n",
        "train_hop3_feats = get_feat(x_train)\n",
        "test_hop3_feats = get_feat(x_test)\n",
        "STD = np.std(train_hop3_feats, axis=0, keepdims=True)\n",
        "train_hop3_feats /= STD\n",
        "test_hop3_feats /= STD\n",
        "\n",
        "train_hop3_reshaped = train_hop3_feats.reshape(train_hop3_feats.shape[0], -1)\n",
        "test_hop3_reshaped = test_hop3_feats.reshape(test_hop3_feats.shape[0], -1)\n",
        "\n",
        "# Module 3\n",
        "clf = xgb.XGBClassifier(n_jobs=-1, objective='multi:softprob', max_depth=6, n_estimators=100, min_child_weight=5, gamma=5, subsample=0.8, learning_rate=0.1, nthread=8, colsample_bytree=1.0)\n",
        "clf.fit(train_hop3_reshaped, y_train)\n",
        "\n",
        "pred_train = clf.predict(train_hop3_reshaped)\n",
        "pred_test = clf.predict(test_hop3_reshaped)\n",
        "train_accuracy = accuracy_score(y_train, pred_train)\n",
        "test_accuracy = accuracy_score(y_test, pred_test)\n",
        "\n",
        "end_time = time.time()\n",
        "training_time = end_time - start_time\n",
        "\n",
        "print(\"Train Accuracy:\", train_accuracy)\n",
        "print(\"Test Accuracy:\", test_accuracy)\n",
        "print(\"Training Time:\", training_time, \"seconds\")\n",
        "\n",
        "feats_K1 = get_feat(x_train,num_layers=0)\n",
        "feats_K2 = get_feat(x_train,num_layers=2)\n",
        "feats_K3 = get_feat(x_train,num_layers=3)\n",
        "K1 = feats_K1.shape[-1]\n",
        "K2 = feats_K2.shape[-1]\n",
        "K3 = feats_K3.shape[-1]\n",
        "print(\"K1 Features:\", K1)\n",
        "print(\"K2 Features:\", K2)\n",
        "print(\"K3 Features:\", K3)"
      ],
      "metadata": {
        "id": "kJS28D9XFo0B"
      },
      "execution_count": null,
      "outputs": []
    },
    {
      "cell_type": "code",
      "source": [
        "\n",
        "th1_values = [ 0.001,0.005, 0.01, 0.05, 0.1]\n",
        "test_accuracies = [ 96.63,96.28, 96.14, 93.12, 90.87]\n",
        "\n",
        "plt.figure(figsize=(10, 5))\n",
        "plt.plot(th1_values, test_accuracies, marker='o', linestyle='-', color='g')\n",
        "plt.title('TH1 vs. Test Accuracy')\n",
        "plt.xlabel('TH1 Values')\n",
        "plt.ylabel('Test Accuracy (%)')\n",
        "plt.grid(True)\n",
        "plt.show()"
      ],
      "metadata": {
        "id": "ohQ6_WoWJ2bx"
      },
      "execution_count": null,
      "outputs": []
    },
    {
      "cell_type": "code",
      "source": [
        "cm = confusion_matrix(y_test, pred_test)\n",
        "print(\"Confusion Matrix:\")\n",
        "print(cm)\n",
        "\n",
        "plt.figure(figsize=(10, 8))\n",
        "sns.heatmap(cm, annot=True, fmt='d', cmap='Greens', xticklabels=np.unique(y_test), yticklabels=np.unique(y_test))\n",
        "plt.title('Confusion Matrix')\n",
        "plt.xlabel('Predicted Label')\n",
        "plt.ylabel('True Label')\n",
        "plt.show()\n",
        "\n",
        "class_accuracy = cm.diagonal() / cm.sum(axis=1)\n",
        "lowest_error_class = np.argmin(class_accuracy)\n",
        "highest_error_class = np.argmax(class_accuracy)\n",
        "\n",
        "print(f\"Class with the lowest error rate: {lowest_error_class} (Error Rate: {1 - class_accuracy[lowest_error_class]:.2f})\")\n",
        "print(f\"Class with the highest error rate: {highest_error_class} (Error Rate: {1 - class_accuracy[highest_error_class]:.2f})\")\n"
      ],
      "metadata": {
        "id": "AW50xtgIKjgo"
      },
      "execution_count": null,
      "outputs": []
    }
  ]
}