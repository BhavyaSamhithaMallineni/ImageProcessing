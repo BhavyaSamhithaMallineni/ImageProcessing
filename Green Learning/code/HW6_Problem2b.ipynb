{
  "nbformat": 4,
  "nbformat_minor": 0,
  "metadata": {
    "colab": {
      "provenance": []
    },
    "kernelspec": {
      "name": "python3",
      "display_name": "Python 3"
    },
    "language_info": {
      "name": "python"
    }
  },
  "cells": [
    {
      "cell_type": "code",
      "execution_count": null,
      "metadata": {
        "id": "XNc-_sTfKp_2"
      },
      "outputs": [],
      "source": [
        "!git clone https://github.com/USC-MCL/Channelwise-Saab-Transform.git"
      ]
    },
    {
      "cell_type": "code",
      "source": [
        "!pip install numpy scikit-image numba scikit-learn xgboost tensorflow\n"
      ],
      "metadata": {
        "id": "_FbEBJNHKu-1"
      },
      "execution_count": null,
      "outputs": []
    },
    {
      "cell_type": "code",
      "source": [
        "!git clone https://github.com/USC-MCL/Channelwise-Saab-Transform.git\n",
        "import os\n",
        "os.chdir('Channelwise-Saab-Transform')"
      ],
      "metadata": {
        "id": "qODebbNKKwwg"
      },
      "execution_count": null,
      "outputs": []
    },
    {
      "cell_type": "code",
      "source": [
        "!pip install pixelhop\n"
      ],
      "metadata": {
        "id": "CdhLRtyoKy0b"
      },
      "execution_count": null,
      "outputs": []
    },
    {
      "cell_type": "code",
      "source": [
        "import numpy as np\n",
        "from tensorflow.keras.datasets import mnist,fashion_mnist\n",
        "from skimage.util import view_as_windows\n",
        "from pixelhop import Pixelhop\n",
        "from skimage.measure import block_reduce\n",
        "from sklearn.metrics import accuracy_score\n",
        "import matplotlib.pyplot as plt\n",
        "import xgboost as xgb\n",
        "import seaborn as sns\n",
        "from sklearn.metrics import confusion_matrix, accuracy_score\n",
        "import warnings, gc\n",
        "\n",
        "warnings.simplefilter(action='ignore', category=FutureWarning)\n",
        "import time"
      ],
      "metadata": {
        "id": "AMFGVLp7K0Yb"
      },
      "execution_count": null,
      "outputs": []
    },
    {
      "cell_type": "code",
      "source": [
        "np.random.seed(1)\n",
        "\n",
        "# Preprocess\n",
        "N_Train_Reduced = 10000    # 10000\n",
        "N_Train_Full = 60000     #60000\n",
        "N_Test = 10000            # 10000\n",
        "\n",
        "BS = 2000 # batch size"
      ],
      "metadata": {
        "id": "1PO9BTccK5UY"
      },
      "execution_count": null,
      "outputs": []
    },
    {
      "cell_type": "code",
      "source": [
        "def shuffle_data(X, y):\n",
        "    shuffle_idx = np.random.permutation(y.size)\n",
        "    X = X[shuffle_idx]\n",
        "    y = y[shuffle_idx]\n",
        "    return X, y\n",
        "def select_balanced_subset(images, labels, use_num_images):\n",
        "    '''\n",
        "    select equal number of images from each classes\n",
        "    '''\n",
        "    num_total, H, W, C = images.shape\n",
        "    num_class = np.unique(labels).size\n",
        "    num_per_class = int(use_num_images / num_class)\n",
        "\n",
        "    # Shuffle\n",
        "    images, labels = shuffle_data(images, labels)\n",
        "\n",
        "    selected_images = np.zeros((use_num_images, H, W, C))\n",
        "    selected_labels = np.zeros(use_num_images)\n",
        "\n",
        "    for i in range(num_class):\n",
        "        selected_images[i * num_per_class:(i + 1) * num_per_class] = images[labels == i][:num_per_class]\n",
        "        selected_labels[i * num_per_class:(i + 1) * num_per_class] = np.ones((num_per_class)) * i\n",
        "\n",
        "    # Shuffle again\n",
        "    selected_images, selected_labels = shuffle_data(selected_images, selected_labels)\n",
        "\n",
        "    return selected_images, selected_labels\n",
        "\n",
        "def Shrink(X, shrinkArg):\n",
        "\n",
        "    pool = shrinkArg['pool']\n",
        "    poolh, poolw = 2, 2\n",
        "    if pool:\n",
        "        X = block_reduce(X, block_size=(1, poolh, poolw, 1), func=np.max)\n",
        "\n",
        "\n",
        "    win = shrinkArg['win']\n",
        "    stride = shrinkArg['stride']\n",
        "    pad = shrinkArg['pad']\n",
        "\n",
        "    if pad > 0:\n",
        "        X = np.pad(X, ((0,0), (pad,pad), (pad,pad), (0,0)), mode='reflect')\n",
        "\n",
        "    X = view_as_windows(X, (1, win, win, X.shape[-1]), step=(1, stride, stride, X.shape[-1]))\n",
        "    shrink_arg =X.reshape(X.shape[0], X.shape[1], X.shape[2], -1)\n",
        "\n",
        "    return shrink_arg\n",
        "\n",
        "def get_feat(X, p2, num_layers=3):\n",
        "    output = p2.transform_singleHop(X,layer=0)\n",
        "    if num_layers>1:\n",
        "        for i in range(num_layers-1):\n",
        "            output = p2.transform_singleHop(output, layer=i+1)\n",
        "    return output\n",
        "def reshape_feats(train_feats, test_feats):\n",
        "    N_train, _, _, X_train = train_feats.shape\n",
        "    N_test, _, _, X_test = test_feats.shape\n",
        "    train = np.reshape(train_feats, (N_train, X_train))\n",
        "    test = np.reshape(test_feats, (N_test, X_test))\n",
        "\n",
        "    return train, test\n"
      ],
      "metadata": {
        "id": "mArbsZjAK_K8"
      },
      "execution_count": null,
      "outputs": []
    },
    {
      "cell_type": "code",
      "source": [
        "warnings.filterwarnings(\"ignore\")\n",
        "(x_train, y_train), (x_test, y_test) = fashion_mnist.load_data()\n",
        "x_train, x_test = x_train.astype('float32')[..., np.newaxis] / 255.0, x_test.astype('float32')[..., np.newaxis] / 255.0\n",
        "y_train, y_test = y_train.astype('int'), y_test.astype('int')\n",
        "x_train_reduced, y_train_reduced = select_balanced_subset(x_train, y_train, N_Train_Reduced)\n",
        "\n",
        "#Module 1\n",
        "shrinkArgs = [{'func': Shrink, 'win': 5, 'stride': 1, 'pad': 2, 'pool': False}, {'func': Shrink, 'win': 5, 'stride': 1, 'pad': 0, 'pool': True}, {'func': Shrink, 'win': 5, 'stride': 1, 'pad': 0, 'pool': True}]\n",
        "SaabArgs_base = [{'num_AC_kernels':-1, 'needBias':False, 'cw':False},\n",
        "        {'num_AC_kernels':-1, 'needBias':True, 'cw':False},\n",
        "        {'num_AC_kernels':-1, 'needBias':True, 'cw':False}]\n",
        "SaabArgs_plus = [{'num_AC_kernels':-1, 'needBias':False, 'cw':False},\n",
        "        {'num_AC_kernels':-1, 'needBias':True, 'cw':True},\n",
        "        {'num_AC_kernels':-1, 'needBias':True, 'cw':True}]\n",
        "concatArg = {'func': Concat}\n",
        "print('Running Module 1...')\n",
        "\n",
        "p2_base = Pixelhop(depth=3, TH1=0.005, TH2=0.1,\n",
        "          SaabArgs=SaabArgs_base, shrinkArgs=shrinkArgs, concatArg=concatArg)\n",
        "p2_plus = Pixelhop(depth=3, TH1=0.005, TH2=0.1,\n",
        "          SaabArgs=SaabArgs_plus, shrinkArgs=shrinkArgs, concatArg=concatArg)\n",
        "\n",
        "start_time_plus = time.time()\n",
        "p2_plus.fit(x_train_reduced)\n",
        "start_time_base = time.time()\n",
        "p2_base.fit(x_train_reduced)\n",
        "\n",
        "\n",
        "#Module 2\n",
        "train_hop3_feats_plus = get_feat(x_train, p2_plus)\n",
        "test_hop3_feats_plus = get_feat(x_test, p2_plus)\n",
        "train_hop3_feats_base = get_feat(x_train, p2_base)\n",
        "test_hop3_feats_base = get_feat(x_test, p2_base)\n",
        "\n",
        "STD_plus = np.std(train_hop3_feats_plus, axis=0, keepdims=1)\n",
        "STD_base = np.std(train_hop3_feats_base, axis=0, keepdims=1)\n",
        "train_hop3_feats_plus = train_hop3_feats_plus/STD_plus\n",
        "test_hop3_feats_plus = test_hop3_feats_plus/STD_plus\n",
        "train_hop3_feats_base = train_hop3_feats_base/STD_base\n",
        "test_hop3_feats_base = test_hop3_feats_base/STD_base\n",
        "train_plus_reshaped, test_plus_reshaped = reshape_feats(train_hop3_feats_plus, test_hop3_feats_plus)\n",
        "train_base_reshaped, test_base_reshaped = reshape_feats(train_hop3_feats_base, test_hop3_feats_base)\n",
        "\n",
        "#Module 3\n",
        "clf_plus = xgb.XGBClassifier(n_jobs=-1,\n",
        "                objective='multi:softprob',\n",
        "                max_depth=6,n_estimators=100,\n",
        "                min_child_weight=5,gamma=5,\n",
        "                subsample=0.8,learning_rate=0.1,\n",
        "                nthread=8,colsample_bytree=1.0)\n",
        "\n",
        "clf_base = xgb.XGBClassifier(n_jobs=-1,\n",
        "                objective='multi:softprob',\n",
        "                max_depth=6,n_estimators=100,\n",
        "                min_child_weight=5,gamma=5,\n",
        "                subsample=0.8,learning_rate=0.1,\n",
        "                nthread=8,colsample_bytree=1.0)\n",
        "print('Fitting xgboost on PixelHop++...')\n",
        "clf_plus.fit(train_plus_reshaped, y_train)\n",
        "print('Done. \\nFitting xgboost on PixelHop...')\n",
        "clf_base.fit(train_base_reshaped, y_train)\n",
        "print('Done.')\n",
        "end_time_plus = time.time()\n",
        "plus_training_time = end_time_plus - start_time_plus\n",
        "end_time_base = time.time()\n",
        "base_training_time = end_time_base - start_time_base\n",
        "\n",
        "print('Total Training Time for PixelHop++:', plus_training_time, 'seconds')\n",
        "print('Total Training Time for PixelHop:', base_training_time, 'seconds')\n",
        "\n",
        "train_preds_plus = clf_plus.predict(train_plus_reshaped)\n",
        "test_preds_plus = clf_plus.predict(test_plus_reshaped)\n",
        "train_accuracy_plus = accuracy_score(y_train, train_preds_plus)\n",
        "test_accuracy_plus = accuracy_score(y_test, test_preds_plus)\n",
        "\n",
        "train_preds_base = clf_base.predict(train_base_reshaped)\n",
        "test_preds_base = clf_base.predict(test_base_reshaped)\n",
        "train_accuracy_base = accuracy_score(y_train, train_preds_base)\n",
        "test_accuracy_base = accuracy_score(y_test, test_preds_base\n",
        "\n",
        "feats_K1_plus = get_feat(x_train, p2_plus, num_layers=1)\n",
        "feats_K2_plus = get_feat(x_train, p2_plus, num_layers=2)\n",
        "feats_K3_plus = get_feat(x_train, p2_plus, num_layers=3)\n",
        "K1_plus = feats_K1_plus.shape[-1]\n",
        "K2_plus = feats_K2_plus.shape[-1]\n",
        "K3_plus = feats_K3_plus.shape[-1]\n",
        "\n",
        "feats_K1_base = get_feat(x_train, p2_base, num_layers=1)\n",
        "feats_K2_base = get_feat(x_train, p2_base, num_layers=2)\n",
        "feats_K3_base = get_feat(x_train, p2_base, num_layers=3)\n",
        "K1_base = feats_K1_base.shape[-1]\n",
        "K2_base = feats_K2_base.shape[-1]\n",
        "K3_base = feats_K3_base.shape[-1]\n",
        "\n",
        "print(\"PixelHop++ Train Accuracy:\", train_accuracy_plus)\n",
        "print(\"PixelHop++ Test Accuracy:\", test_accuracy_plus)\n",
        "print(\"PixelHop++ K1 Features:\", K1_plus)\n",
        "print(\"PixelHop++ K2 Features:\", K2_plus)\n",
        "print(\"PixelHop++ K3 Features:\", K3_plus)\n",
        "\n",
        "print(\"PixelHop Train Accuracy:\", train_accuracy_base)\n",
        "print(\"PixelHop Test Accuracy:\", test_accuracy_base)\n",
        "print(\"PixelHop K1 Features:\", K1_base)\n",
        "print(\"PixelHop K2 Features:\", K2_base)\n",
        "print(\"PixelHop K3 Features:\", K3_base)\n",
        ""
      ],
      "metadata": {
        "id": "vw7vse-ALMwq"
      },
      "execution_count": null,
      "outputs": []
    },
    {
      "cell_type": "code",
      "source": [
        "th2_values = [0.001, 0.01, 0.1]\n",
        "train_accuracies_ph_plus = [98.32, 86.87, 20.78]\n",
        "test_accuracies_ph_plus = [96.45, 83.51, 20.45]\n",
        "train_accuracies_ph = [98.47, 96.32, 44.45]\n",
        "test_accuracies_ph = [96.26, 94.44, 44.31]\n",
        "\n",
        "plt.figure(figsize=(12, 6))\n",
        "plt.plot(th2_values, train_accuracies_ph_plus, marker='o', linestyle='-', color='b', label='PixelHop++ Train Accuracy')\n",
        "plt.plot(th2_values, test_accuracies_ph_plus, marker='o', linestyle='--', color='b', label='PixelHop++ Test Accuracy')\n",
        "plt.plot(th2_values, train_accuracies_ph, marker='o', linestyle='-', color='g', label='PixelHop Train Accuracy')\n",
        "plt.plot(th2_values, test_accuracies_ph, marker='o', linestyle='--', color='g', label='PixelHop Test Accuracy')\n",
        "plt.title('Train and Test Accuracy vs TH2 for PixelHop and PixelHop++')\n",
        "plt.xlabel('TH2 Values')\n",
        "plt.ylabel('Accuracy (%)')\n",
        "plt.legend()\n",
        "plt.grid(True)\n",
        "plt.show()"
      ],
      "metadata": {
        "id": "0uhKrvTvLzgI"
      },
      "execution_count": null,
      "outputs": []
    }
  ]
}